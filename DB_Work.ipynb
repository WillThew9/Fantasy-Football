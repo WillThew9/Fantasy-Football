{
 "cells": [
  {
   "cell_type": "code",
   "execution_count": 1,
   "metadata": {},
   "outputs": [],
   "source": [
    "import sqlite3"
   ]
  },
  {
   "cell_type": "code",
   "execution_count": 2,
   "metadata": {},
   "outputs": [],
   "source": [
    "conn = sqlite3.connect('NFL_STATS.db')\n",
    "cursor = conn.cursor()"
   ]
  },
  {
   "cell_type": "code",
   "execution_count": 3,
   "metadata": {},
   "outputs": [
    {
     "data": {
      "text/plain": [
       "<sqlite3.Cursor at 0x1e6e97f51c0>"
      ]
     },
     "execution_count": 3,
     "metadata": {},
     "output_type": "execute_result"
    }
   ],
   "source": [
    "# cursor.execute('ALTER TABLE WR_Pass RENAME COLUMN \"PASS ATT\" TO PASS_ATT')\n",
    "# cursor.execute('ALTER TABLE WR_Pass RENAME COLUMN \"PASS ATT/G\" TO PASS_ATT_G')\n",
    "# cursor.execute('ALTER TABLE WR_Pass RENAME COLUMN \"PASS YDS\" TO PASS_YDS')\n",
    "# cursor.execute('ALTER TABLE WR_Pass RENAME COLUMN \"300+ PASS YDS\" TO OVER_THREE_HUNDRED')\n",
    "# cursor.execute('ALTER TABLE WR_Pass RENAME COLUMN \"COMP%\" TO COMP_PCT')\n",
    "# cursor.execute('ALTER TABLE WR_Pass RENAME COLUMN \"PASS YDS/ATT\" TO PASS_YDS_ATT')\n",
    "# cursor.execute('ALTER TABLE WR_Pass RENAME COLUMN \"YDS/COMP\" TO PASS_YDS_COMP')\n",
    "# cursor.execute('ALTER TABLE WR_Pass RENAME COLUMN \"PASS TD\" TO PASS_TD')\n",
    "# cursor.execute('ALTER TABLE WR_Pass RENAME COLUMN \"PASS INT\" TO PASS_INT')\n",
    "# cursor.execute('ALTER TABLE WR_Pass RENAME COLUMN \"PASS LONG\" TO PASS_LONG')\n",
    "# cursor.execute('ALTER TABLE WR_Pass RENAME COLUMN \"SACK YDS\" TO SACK_YDS')\n",
    "# cursor.execute('ALTER TABLE WR_Pass RENAME COLUMN \"PASS FUML\" TO PASS_FUML')\n",
    "\n",
    "# cursor.execute('ALTER TABLE WR_Rec RENAME COLUMN \"TGT/G\" TO TGT_G')\n",
    "# cursor.execute('ALTER TABLE WR_Rec RENAME COLUMN \"REC YDS\" TO REC_YDS')\n",
    "# cursor.execute('ALTER TABLE WR_Rec RENAME COLUMN \"100+ REC YDS\" TO HUNDRED_YDS')\n",
    "# cursor.execute('ALTER TABLE WR_Rec RENAME COLUMN \"HUNDRED_YDS\" TO REC_HUNDRED_YDS')\n",
    "# cursor.execute('ALTER TABLE WR_Rec RENAME COLUMN \"YDS/REC\" TO YDS_REC')\n",
    "# cursor.execute('ALTER TABLE WR_Rec RENAME COLUMN \"REC TD\" TO REC_TD')\n",
    "# cursor.execute('ALTER TABLE WR_Rec RENAME COLUMN \"REC LONG\" TO REC_LONG')\n",
    "# cursor.execute('ALTER TABLE WR_Rec RENAME COLUMN \"REC FUM\" TO REC_FUM')\n",
    "# cursor.execute('ALTER TABLE WR_Rec RENAME COLUMN \"REC FUML\" TO REC_FUML')\n",
    "\n",
    "# cursor.execute('ALTER TABLE WR_Rush RENAME COLUMN \"RUSH ATT\" TO RUSH_ATT')\n",
    "# cursor.execute('ALTER TABLE WR_Rush RENAME COLUMN \"RUSH YDS\" TO RUSH_YDS')\n",
    "# cursor.execute('ALTER TABLE WR_Rush RENAME COLUMN \"RUSH YDS/ATT\" TO RUSH_YDS_ATT')\n",
    "# cursor.execute('ALTER TABLE WR_Rush RENAME COLUMN \"ATT/G\" TO ATT_G')\n",
    "# cursor.execute('ALTER TABLE WR_Rush RENAME COLUMN \"100+ RUSH YDS\" TO RUSH_HUNDRED_YDS')\n",
    "# cursor.execute('ALTER TABLE WR_Rush RENAME COLUMN \"RUSH TD\" TO RUSH_TD')\n",
    "# cursor.execute('ALTER TABLE WR_Rush RENAME COLUMN \"RUSH LONG\" TO RUSH_LONG')\n",
    "# cursor.execute('ALTER TABLE WR_Rush RENAME COLUMN \"RUSH FUM\" TO RUSH_FUM')\n",
    "# cursor.execute('ALTER TABLE WR_Rush RENAME COLUMN \"RUSH FUML\" TO RUSH_FUML')\n",
    "\n",
    "# cursor.execute('ALTER TABLE WR_Snap RENAME COLUMN \"Offensive Snaps\" TO SNAP_COUNT')\n",
    "\n",
    "# cursor.execute('ALTER TABLE WR_ppr RENAME COLUMN \"Yahoo Fantasy Points\" TO POINTS')\n",
    "# cursor.execute('ALTER TABLE WR_ppr RENAME COLUMN \"Yahoo Fantasy Points Per Game\" TO POINTS_G')"
   ]
  },
  {
   "cell_type": "code",
   "execution_count": 4,
   "metadata": {},
   "outputs": [],
   "source": [
    "# cursor.execute('''\n",
    "# CREATE TABLE NFL_STATS_TABLE AS\n",
    "# SELECT\n",
    "#     WR_Pass.NAME,\n",
    "#     WR_Pass.RTG,\n",
    "#     WR_Pass.TEAM,\n",
    "#     WR_Pass.GP,\n",
    "#     WR_Pass.COMP,\n",
    "#     WR_Pass.PASS_ATT,\n",
    "#     WR_Pass.PASS_ATT_G,\n",
    "#     WR_Pass.PASS_YDS,\n",
    "#     WR_Pass.OVER_THREE_HUNDRED,\n",
    "#     WR_Pass.COMP_PCT,\n",
    "#     WR_Pass.PASS_YDS_ATT,\n",
    "#     WR_Pass.PASS_YDS_COMP,\n",
    "#     WR_Pass.PASS_TD,\n",
    "#     WR_Pass.PASS_INT,\n",
    "#     WR_Pass.QBR,\n",
    "#     WR_Pass.PASS_LONG,\n",
    "#     WR_Pass.SACKS,\n",
    "#     WR_Pass.SACK_YDS,\n",
    "#     WR_Pass.PASS_FUML,\n",
    "#     WR_Rec.TGT,\n",
    "#     WR_Rec.REC,\n",
    "#     WR_Rec.TGT_G,\n",
    "#     WR_Rec.REC_YDS,\n",
    "#     WR_Rec.REC_HUNDRED_YDS,\n",
    "#     WR_Rec.YDS_REC,\n",
    "#     WR_Rec.REC_TD,\n",
    "#     WR_Rec.REC_LONG,\n",
    "#     WR_Rec.REC_FUM,\n",
    "#     WR_Rec.REC_FUML,\n",
    "#     WR_Rush.RUSH_ATT,\n",
    "#     WR_Rush.RUSH_YDS,\n",
    "#     WR_Rush.RUSH_YDS_ATT,\n",
    "#     WR_Rush.ATT_G,\n",
    "#     WR_Rush.RUSH_HUNDRED_YDS,\n",
    "#     WR_Rush.RUSH_TD,\n",
    "#     WR_Rush.RUSH_LONG,\n",
    "#     WR_Rush.RUSH_FUM,\n",
    "#     WR_Rush.RUSH_FUML,\n",
    "#     WR_Snap.SNAP_COUNT,\n",
    "#     WR_ppr.POINTS,\n",
    "#     WR_ppr.POINTS_G,\n",
    "#     WR_ppr.YEAR\n",
    "# FROM WR_Pass\n",
    "# LEFT JOIN WR_Rec ON WR_Pass.NAME = WR_Rec.NAME AND WR_Pass.YEAR = WR_Rec.YEAR\n",
    "# LEFT JOIN WR_Rush ON WR_Pass.NAME = WR_Rush.NAME AND WR_Pass.YEAR = WR_Rush.YEAR\n",
    "# LEFT JOIN WR_Snap ON WR_Pass.NAME = WR_Snap.NAME AND WR_Pass.YEAR = WR_Snap.YEAR\n",
    "# LEFT JOIN WR_ppr ON WR_Pass.NAME = WR_ppr.NAME AND WR_Pass.YEAR = WR_ppr.YEAR\n",
    "# ''')\n",
    "# conn.commit()"
   ]
  },
  {
   "cell_type": "code",
   "execution_count": 5,
   "metadata": {},
   "outputs": [],
   "source": [
    "# conn.execute('''\n",
    "# DROP TABLE NFL_STATS\n",
    "# ''')"
   ]
  },
  {
   "cell_type": "code",
   "execution_count": 6,
   "metadata": {},
   "outputs": [],
   "source": [
    "conn.close()"
   ]
  }
 ],
 "metadata": {
  "kernelspec": {
   "display_name": "base",
   "language": "python",
   "name": "python3"
  },
  "language_info": {
   "codemirror_mode": {
    "name": "ipython",
    "version": 3
   },
   "file_extension": ".py",
   "mimetype": "text/x-python",
   "name": "python",
   "nbconvert_exporter": "python",
   "pygments_lexer": "ipython3",
   "version": "3.12.3"
  }
 },
 "nbformat": 4,
 "nbformat_minor": 2
}
